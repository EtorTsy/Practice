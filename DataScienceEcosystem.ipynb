{
  "nbformat": 4,
  "nbformat_minor": 0,
  "metadata": {
    "colab": {
      "provenance": []
    },
    "kernelspec": {
      "name": "python3",
      "display_name": "Python 3"
    },
    "language_info": {
      "name": "python"
    }
  },
  "cells": [
    {
      "cell_type": "markdown",
      "source": [
        "# Data Science Tools and Ecosystem"
      ],
      "metadata": {
        "id": "IjTwMQ56CgcP"
      }
    },
    {
      "cell_type": "markdown",
      "source": [
        "In this notebook, Data Science Tools and Ecosystem are summarized"
      ],
      "metadata": {
        "id": "hlkYbxYqDt1_"
      }
    },
    {
      "cell_type": "markdown",
      "source": [
        "__Objectives:__\n",
        "* List popular languages in data science\n",
        "* List some libraries commonly used in data science\n",
        "* Perform simple arithmetic\n",
        "* Create a simple table in markdown\n"
      ],
      "metadata": {
        "id": "AtPkdTTYJrAV"
      }
    },
    {
      "cell_type": "markdown",
      "source": [
        "Some of the popular languages Data Scientists use are\n",
        "1. Python\n",
        "2. R\n",
        "3. SQL\n",
        "4. Java\n",
        "5. Julia"
      ],
      "metadata": {
        "id": "KQY8KXdEEKqW"
      }
    },
    {
      "cell_type": "markdown",
      "source": [
        "Some of the commonly used libraries by Data Scientist are \n",
        "1. Pandas\n",
        "2. Numpy\n",
        "3. ScikitLearn\n",
        "4. ggplot\n",
        "5. caret"
      ],
      "metadata": {
        "id": "PAckWFMbEub9"
      }
    },
    {
      "cell_type": "markdown",
      "source": [
        "|Data Science Tools|\n",
        "|Jupyter Notebook|\n",
        "|RStudio|\n",
        "|Visual Studio Code|\n",
        "\n",
        "\n",
        "_I'm just realizing that the table function doesn't work in google colab. I had to use colab due to some system issues with my Jupyter Notebook_"
      ],
      "metadata": {
        "id": "ul436vcuGKZV"
      }
    },
    {
      "cell_type": "markdown",
      "source": [
        "### Below are a few examples of evluating arithmetic expressions in python"
      ],
      "metadata": {
        "id": "UYo01Ui_HFoD"
      }
    },
    {
      "cell_type": "code",
      "source": [
        "# This is a simple arithmetic expression to multiply then add integers\n",
        "(3*4)+5"
      ],
      "metadata": {
        "colab": {
          "base_uri": "https://localhost:8080/"
        },
        "id": "Y1HuvEzyHdos",
        "outputId": "6873c994-a044-4436-8e39-481baf2d5b94"
      },
      "execution_count": 1,
      "outputs": [
        {
          "output_type": "execute_result",
          "data": {
            "text/plain": [
              "17"
            ]
          },
          "metadata": {},
          "execution_count": 1
        }
      ]
    },
    {
      "cell_type": "code",
      "source": [
        "# This will convert 200mins to hours by diving by 60\n",
        "m = 200\n",
        "h = m/60\n",
        "rounded = round(h, 2)\n",
        "print(\"200mins is equal to\", rounded, \"hours\")"
      ],
      "metadata": {
        "colab": {
          "base_uri": "https://localhost:8080/"
        },
        "id": "RfFy-lpaIEE0",
        "outputId": "047f6478-799a-4723-cb35-c192a19417be"
      },
      "execution_count": 3,
      "outputs": [
        {
          "output_type": "stream",
          "name": "stdout",
          "text": [
            "200mins is equal to 3.33 hours\n"
          ]
        }
      ]
    },
    {
      "cell_type": "markdown",
      "source": [
        "## Author\n",
        "Etornam Tsyawo"
      ],
      "metadata": {
        "id": "UVP88xCLKbWL"
      }
    }
  ]
}